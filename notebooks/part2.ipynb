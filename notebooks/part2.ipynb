{
 "cells": [
  {
   "cell_type": "markdown",
   "id": "23a98213",
   "metadata": {},
   "source": [
    "# Optimization Mini-Project"
   ]
  },
  {
   "cell_type": "markdown",
   "id": "2cd9a3df",
   "metadata": {},
   "source": [
    "Importing Libraries"
   ]
  },
  {
   "cell_type": "code",
   "execution_count": 1,
   "id": "0f9fc0eb",
   "metadata": {},
   "outputs": [],
   "source": [
    "import numpy as np\n",
    "import sympy as sp"
   ]
  },
  {
   "cell_type": "markdown",
   "id": "79525191",
   "metadata": {},
   "source": [
    "## Part II: Numerical Constrained Optimization Techniques\n",
    "\n",
    "You should write a program that solves constrained optimization problems using the penalty function method studied in class with gradient descent method for unconstrained minimization. Clearly, describe the parameters settings. Test your program and provide sample runs in the report accompanying your implementation."
   ]
  },
  {
   "cell_type": "markdown",
   "id": "ef19bbee",
   "metadata": {},
   "source": [
    "### Exterior Penalty Method"
   ]
  },
  {
   "cell_type": "code",
   "execution_count": 2,
   "id": "4d14503d",
   "metadata": {},
   "outputs": [],
   "source": [
    "def exterior_penalty(problem, x0, r0, descent_iterations=1000, num_iterations=3, tolerance=0.25, c=10, lambda_=0.01):\n",
    "    r = r0\n",
    "    i = 0\n",
    "    f = problem['f']\n",
    "    h = 0\n",
    "    for h_i in problem['h']:\n",
    "        h += sp.Pow(h_i, 2)\n",
    "    g = 0\n",
    "    for g_i in problem['g']:\n",
    "        g += sp.Pow(sp.Max(0, g_i), 2)\n",
    "    j = 0\n",
    "    while j < num_iterations:\n",
    "        i = 0\n",
    "        violated_constraint = False\n",
    "        x_val, y_val = x0\n",
    "        phi = f + r * h + r * g\n",
    "        del_phi_x = sp.diff(phi, x)\n",
    "        del_phi_y = sp.diff(phi, y)\n",
    "        while i < descent_iterations:\n",
    "            violated_constraint = False\n",
    "            del_phi_x_k = del_phi_x.subs([(x, x_val), (y, y_val)])\n",
    "            del_phi_y_k = del_phi_y.subs([(x, x_val), (y, y_val)])\n",
    "            x_val -= lambda_ * del_phi_x_k\n",
    "            y_val -= lambda_ * del_phi_y_k\n",
    "            for h_i in problem['h']:\n",
    "                if not (-tolerance <= h_i.subs([(x, x_val), (y, y_val)]) <= tolerance):\n",
    "                    violated_constraint = True\n",
    "                    break\n",
    "            for g_i in problem['g']:\n",
    "                if g_i.subs([(x, x_val), (y, y_val)]) > tolerance:\n",
    "                    violated_constraint = True\n",
    "                    break         \n",
    "            if violated_constraint == False:\n",
    "                break\n",
    "            i += 1\n",
    "        if violated_constraint:\n",
    "            r *= c\n",
    "        else:\n",
    "            return x_val, y_val\n",
    "        j += 1\n",
    "    return round(x_val, 2), round(y_val, 2)"
   ]
  },
  {
   "cell_type": "markdown",
   "id": "e0e4f579",
   "metadata": {},
   "source": [
    "### Examples of Objective Functions\n",
    "\n",
    "h: equality equations\n",
    "\n",
    "g: inequality equations"
   ]
  },
  {
   "cell_type": "code",
   "execution_count": 3,
   "id": "e5a92bfc",
   "metadata": {},
   "outputs": [],
   "source": [
    "def state_problem(obj_func, g_constraints=None, h_constraints=None):\n",
    "    problem = dict()\n",
    "    problem['g'] = []\n",
    "    problem['h'] = []\n",
    "    problem['f'] = obj_func\n",
    "    if g_constraints is not None:\n",
    "        for i in range(len(g_constraints)):\n",
    "            problem['g'].append(g_constraints[i])\n",
    "    if h_constraints is not None:\n",
    "        for i in range(len(h_constraints)):    \n",
    "            problem['h'].append(h_constraints[i])        \n",
    "    return problem"
   ]
  },
  {
   "cell_type": "code",
   "execution_count": 4,
   "id": "553f7c97",
   "metadata": {},
   "outputs": [],
   "source": [
    "x, y = sp.symbols('x y', real=True)"
   ]
  },
  {
   "cell_type": "markdown",
   "id": "d1f17a9d",
   "metadata": {},
   "source": [
    "**Example 1:**\n",
    "\n",
    "Minimize $f(x, y) = 3x^ 2 + 4y^2, $ subject to $x + 2y = 8, $ for 3 iterations and setting the penalty parameter r = 1 and the scaling parameter c = 10"
   ]
  },
  {
   "cell_type": "code",
   "execution_count": 5,
   "id": "b26a2ad6",
   "metadata": {},
   "outputs": [
    {
     "data": {
      "text/plain": [
       "{'g': [], 'h': [x + 2*y - 8], 'type': 'min', 'f': 3*x**2 + 4*y**2}"
      ]
     },
     "execution_count": 5,
     "metadata": {},
     "output_type": "execute_result"
    }
   ],
   "source": [
    "ex1 = state_problem(3*x**2 + 4*y**2, 'min', h_constraints=[x + 2*y - 8])\n",
    "ex1"
   ]
  },
  {
   "cell_type": "markdown",
   "id": "0943f613",
   "metadata": {},
   "source": [
    "**Example 2:**\n",
    "\n",
    "\n",
    "Minimize $f(x, y) = 2x + (y-3)^2, $ subject to $x >= 3, y >= 3, $ for 2 iterations and setting the penalty parameter r = 1 and the scaling parameter c = 10"
   ]
  },
  {
   "cell_type": "code",
   "execution_count": 6,
   "id": "5c46967d",
   "metadata": {},
   "outputs": [
    {
     "data": {
      "text/plain": [
       "{'g': [3 - x, 3 - y], 'h': [], 'type': 'min', 'f': 2*x + (y - 3)**2}"
      ]
     },
     "execution_count": 6,
     "metadata": {},
     "output_type": "execute_result"
    }
   ],
   "source": [
    "ex2 = state_problem(2*x + (y-3)**2, 'min', g_constraints=[3 - x, 3 - y])\n",
    "ex2"
   ]
  },
  {
   "cell_type": "markdown",
   "id": "b5ce6cdd",
   "metadata": {},
   "source": [
    "**Example 3:**\n",
    "\n",
    "Minimize $f(x,y) = (1/3) * (x+1)^3 + y, $ subject to $x >= 1, y >= 0, $ for 2 iterations and setting the penalty parameter r = 1 and the scaling parameter c = 10"
   ]
  },
  {
   "cell_type": "code",
   "execution_count": 7,
   "id": "41a7c8ba",
   "metadata": {},
   "outputs": [
    {
     "data": {
      "text/plain": [
       "{'g': [1 - x, -y],\n",
       " 'h': [],\n",
       " 'type': 'min',\n",
       " 'f': y + 0.333333333333333*(x + 1)**3}"
      ]
     },
     "execution_count": 7,
     "metadata": {},
     "output_type": "execute_result"
    }
   ],
   "source": [
    "ex3 = state_problem((1/3) * (x+1)**3 + y, 'min', g_constraints=[1-x, -y])\n",
    "ex3"
   ]
  },
  {
   "cell_type": "markdown",
   "id": "cf63fc03",
   "metadata": {},
   "source": [
    "### Solving the Examples"
   ]
  },
  {
   "cell_type": "markdown",
   "id": "594664fe",
   "metadata": {},
   "source": [
    "Analytic Solution: $(2, 3)$"
   ]
  },
  {
   "cell_type": "code",
   "execution_count": 11,
   "id": "6be7330c",
   "metadata": {},
   "outputs": [
    {
     "name": "stdout",
     "output_type": "stream",
     "text": [
      "(1.99400000000000, 2.99200000000000)\n"
     ]
    }
   ],
   "source": [
    "res = exterior_penalty(ex1, (1,1), 1, tolerance=0.05, lambda_=0.001)\n",
    "print(res)"
   ]
  },
  {
   "cell_type": "markdown",
   "id": "1dfcacb8",
   "metadata": {},
   "source": [
    "Analytic Solution: $(3, 3)$"
   ]
  },
  {
   "cell_type": "code",
   "execution_count": 12,
   "id": "0f5d9366",
   "metadata": {},
   "outputs": [
    {
     "name": "stdout",
     "output_type": "stream",
     "text": [
      "(2.99, 3.00000000000000)\n"
     ]
    }
   ],
   "source": [
    "res = exterior_penalty(ex2, (2,2), 1, tolerance=0.01, lambda_=0.001)\n",
    "print(res)"
   ]
  },
  {
   "cell_type": "markdown",
   "id": "e5153c93",
   "metadata": {},
   "source": [
    "Analytic Solution= $(1, 0)$"
   ]
  },
  {
   "cell_type": "code",
   "execution_count": 13,
   "id": "aa3c406e",
   "metadata": {},
   "outputs": [
    {
     "name": "stdout",
     "output_type": "stream",
     "text": [
      "(0.98, 0.0)\n"
     ]
    }
   ],
   "source": [
    "res = exterior_penalty(ex3, (0,0), 1, tolerance=0.01, lambda_=0.001)\n",
    "print(res)"
   ]
  }
 ],
 "metadata": {
  "kernelspec": {
   "display_name": "Python 3 (ipykernel)",
   "language": "python",
   "name": "python3"
  },
  "language_info": {
   "codemirror_mode": {
    "name": "ipython",
    "version": 3
   },
   "file_extension": ".py",
   "mimetype": "text/x-python",
   "name": "python",
   "nbconvert_exporter": "python",
   "pygments_lexer": "ipython3",
   "version": "3.11.5"
  }
 },
 "nbformat": 4,
 "nbformat_minor": 5
}
